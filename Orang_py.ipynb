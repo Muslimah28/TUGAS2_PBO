{
  "nbformat": 4,
  "nbformat_minor": 0,
  "metadata": {
    "colab": {
      "provenance": [],
      "toc_visible": true,
      "authorship_tag": "ABX9TyNvskUUgiSGiLLEJIEYcuqF",
      "include_colab_link": true
    },
    "kernelspec": {
      "name": "python3",
      "display_name": "Python 3"
    },
    "language_info": {
      "name": "python"
    }
  },
  "cells": [
    {
      "cell_type": "markdown",
      "metadata": {
        "id": "view-in-github",
        "colab_type": "text"
      },
      "source": [
        "<a href=\"https://colab.research.google.com/github/Muslimah28/TUGAS2_PBO/blob/main/Orang_py.ipynb\" target=\"_parent\"><img src=\"https://colab.research.google.com/assets/colab-badge.svg\" alt=\"Open In Colab\"/></a>"
      ]
    },
    {
      "cell_type": "code",
      "execution_count": 21,
      "metadata": {
        "colab": {
          "base_uri": "https://localhost:8080/"
        },
        "id": "W3szuzJkomIF",
        "outputId": "e045b2fc-c5b3-487d-e39d-c64fcd9eabdc"
      },
      "outputs": [
        {
          "output_type": "stream",
          "name": "stdout",
          "text": [
            "Hallo, nama saya Budi dan saya berumur 25 tahun.\n"
          ]
        }
      ],
      "source": [
        "# Kelas Orang\n",
        "class Orang:\n",
        "    def __init__(self, nama, umur):\n",
        "        self.nama = nama\n",
        "        self.umur = umur\n",
        "\n",
        "    def perkenalan(self):\n",
        "        print(f\"Hallo, nama saya {self.nama} dan saya berumur {self.umur} tahun.\")\n",
        "\n",
        "# Objek Orang\n",
        "orang1 = Orang(\"Budi\", 25)\n",
        "\n",
        "# Memanggil metode\n",
        "orang1.perkenalan()\n",
        "\n",
        "\n"
      ]
    }
  ]
}